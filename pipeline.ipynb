{
 "cells": [
  {
   "cell_type": "code",
   "execution_count": null,
   "metadata": {
    "scrolled": true
   },
   "outputs": [],
   "source": [
    "import alpha_project\n",
    "from alpha_project.Tree import Node, Tree\n",
    "from alpha_project.LpuIndex import LpuIndex\n",
    "from alpha_project.LpuList import LpuList\n",
    "from alpha_project.Train import Train"
   ]
  },
  {
   "cell_type": "code",
   "execution_count": null,
   "metadata": {},
   "outputs": [],
   "source": [
    "import nltk\n",
    "nltk.download('punkt')"
   ]
  },
  {
   "cell_type": "code",
   "execution_count": null,
   "metadata": {},
   "outputs": [],
   "source": [
    "# import warnings\n",
    "# warnings.simplefilter('ignore')\n",
    "\n",
    "import os\n",
    "import re\n",
    "import time\n",
    "import json\n",
    "import nltk\n",
    "import string\n",
    "import collections\n",
    "import requests\n",
    "import numpy as np\n",
    "import pandas as pd\n",
    "\n",
    "from collections import OrderedDict\n",
    "from dadata import DaDataClient\n",
    "\n",
    "from sklearn.ensemble import RandomForestRegressor, RandomForestClassifier\n",
    "from sklearn.model_selection import train_test_split, StratifiedKFold\n",
    "from sklearn.metrics import accuracy_score\n",
    "from sklearn.cross_validation import cross_val_score\n",
    "\n",
    "%matplotlib inline\n",
    "import seaborn as sns\n",
    "import matplotlib.pyplot as plt\n",
    "%config InlineBackend.figure_format = 'svg' \n",
    "\n",
    "from pylab import rcParams\n",
    "rcParams['figure.figsize'] = 8, 5"
   ]
  },
  {
   "cell_type": "code",
   "execution_count": null,
   "metadata": {},
   "outputs": [],
   "source": [
    "# Путь к базе Альфы.\n",
    "database_file_path = [\"data/alpha_base/ЛПУ_АВИС_20171012.xlsx\"]\n",
    "\n",
    "# Путь к запросу.\n",
    "client_file_path = [\n",
    "    \"data/request/Размеченное_1.xlsx\"\n",
    "]\n",
    "\n",
    "# npz файлы базы и запроса.\n",
    "alpha_npz_file = \"data/alpha_base/dadata_alpha_npz_file_20171012.npz\"\n",
    "request_npz_file = \"data/request/dadata_uniq.npz\"\n",
    "\n",
    "# Позиции адреса и наименования в базе.\n",
    "addr_cols_1 = [[6]]\n",
    "name_cols_1 = [[4]]\n",
    "\n",
    "# Позиции адреса и наименования в запросе.\n",
    "addr_cols_2 = [[0]]\n",
    "name_cols_2 = [[1]]\n",
    "\n",
    "# Настройка для для работы с n-граммами.\n",
    "use_components = ['name', 'addr']\n",
    "type_options = ['char', 'word']\n",
    "n_char = [3]\n",
    "n_word = [1]\n",
    "\n",
    "# Топ N, возвращаемый n-граммами.\n",
    "top_n = [5]\n",
    "\n",
    "# Тип работы с n-граммами.\n",
    "algoritm_types = ['weighed', 'not_weighed']\n",
    "\n",
    "# Тип сервиса.\n",
    "api_types = ['dadata']\n",
    "\n",
    "# Id из размеченного альфой файла.\n",
    "uniq_df = pd.read_excel(\"data/request/Размеченное_1.xlsx\")\n",
    "uniq_id = uniq_df['id'].values\n",
    "\n",
    "template = ['ё']\n",
    "change_on = ['е']\n",
    "\n",
    "# Ключ dadata\n",
    "key = '00ce663fcf3e469ca0714b4d5eab82a4c0ccc2df'\n",
    "secret = '' \n",
    "\n",
    "# Прочее\n",
    "my_list = []"
   ]
  },
  {
   "cell_type": "code",
   "execution_count": null,
   "metadata": {},
   "outputs": [],
   "source": [
    "%%time\n",
    "\n",
    "index_1 = LpuIndex(database_file_path, addr_cols_1, name_cols_1).fill_indices()\n",
    "index_2 = LpuIndex(client_file_path, addr_cols_2, name_cols_2).fill_indices()\n",
    "\n",
    "A = (LpuList(\n",
    "    index_1\n",
    ").load(fmt='npz', npz_file_path=alpha_npz_file)\n",
    " .dadata_request(key=key, secret=secret)\n",
    " .to_tree()\n",
    " .address_features_extaction()\n",
    " .change_symb(template=template, change_on=change_on)\n",
    " .clear_name_and_address()\n",
    " .get_token_list(use_components=['name', 'addr'])\n",
    " .w2v(path_to_model=\"data/w2v.bin\", use_components=['name', 'addr']))\n",
    "    \n",
    "B = (LpuList(\n",
    "    index_2\n",
    ").load(fmt='npz', npz_file_path=request_npz_file)           \n",
    " .dadata_request(key=key, secret=secret)\n",
    " .address_features_extaction()\n",
    " .change_symb(template=template, change_on=change_on)\n",
    " .clear_name_and_address()\n",
    " .get_token_list(use_components=['name', 'addr'])\n",
    " .w2v(path_to_model=\"data/w2v.bin\", use_components=['name', 'addr'])) \n",
    "       \n",
    "A.prepare_min_hash_and_lsh(B, algoritm_types=algoritm_types, type_options=type_options,\n",
    "                           n_char=n_char, n_word=n_word, use_components=use_components)"
   ]
  },
  {
   "cell_type": "code",
   "execution_count": null,
   "metadata": {},
   "outputs": [],
   "source": [
    "%time\n",
    "\n",
    "T = (Train(A, B, k=50)\n",
    " .prepare_candidates(n=50, options=[\n",
    "     ('weighed', 'word', 1),\n",
    "     ('not_weighed', 'word', 1),\n",
    "     ('not_weighed', 'char', 3),\n",
    " ]\n",
    ").create_model(answer_file_path='data/request/Размеченное_1.xlsx')\n",
    "    )"
   ]
  },
  {
   "cell_type": "code",
   "execution_count": null,
   "metadata": {},
   "outputs": [],
   "source": [
    "all_finded = T._results_on_metrics('data/request/Размеченное_1.xlsx', 50) \n",
    "top_1 = T._results_on_metrics('data/request/Размеченное_1.xlsx', 1)\n",
    "top_5 = T._results_on_metrics('data/request/Размеченное_1.xlsx', 5)\n",
    "top_10 = T._results_on_metrics('data/request/Размеченное_1.xlsx', 10)"
   ]
  },
  {
   "cell_type": "code",
   "execution_count": null,
   "metadata": {},
   "outputs": [],
   "source": [
    "print(\"Метрика топ-1: \", top_1 / all_finded)\n",
    "print(\"Метрика топ-5: \", top_5 / all_finded)\n",
    "print(\"Метрика топ-10: \", top_10 / all_finded)"
   ]
  }
 ],
 "metadata": {
  "kernelspec": {
   "display_name": "Python 3",
   "language": "python",
   "name": "python3"
  },
  "language_info": {
   "codemirror_mode": {
    "name": "ipython",
    "version": 3
   },
   "file_extension": ".py",
   "mimetype": "text/x-python",
   "name": "python",
   "nbconvert_exporter": "python",
   "pygments_lexer": "ipython3",
   "version": "3.6.4"
  }
 },
 "nbformat": 4,
 "nbformat_minor": 2
}
